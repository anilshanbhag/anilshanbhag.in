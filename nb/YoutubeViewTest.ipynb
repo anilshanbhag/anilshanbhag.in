{
 "cells": [
  {
   "cell_type": "code",
   "execution_count": 47,
   "metadata": {
    "collapsed": true
   },
   "outputs": [],
   "source": [
    "import urllib2\n",
    "import json\n",
    "import matplotlib.pyplot as plt\n",
    "import numpy as np\n",
    "\n",
    "api_key = 'XXX'"
   ]
  },
  {
   "cell_type": "code",
   "execution_count": 9,
   "metadata": {
    "collapsed": false
   },
   "outputs": [],
   "source": [
    "channel_id = 'UCMtFAi84ehTSYSE9XoHefig'\n",
    "video_results_url = \"https://www.googleapis.com/youtube/v3/search?part=snippet&channelId=%s&maxResults=40&order=date&type=video&key=%s\"\n",
    "yt_results = json.loads(urllib2.urlopen(video_results_url % (channel_id, api_key)).read())"
   ]
  },
  {
   "cell_type": "code",
   "execution_count": 17,
   "metadata": {
    "collapsed": false
   },
   "outputs": [],
   "source": [
    "stats_url = \"https://www.googleapis.com/youtube/v3/videos?part=contentDetails,statistics&id=%s&key=%s\"\n",
    "video_ids = [item['id']['videoId'] for item in yt_results['items']]\n",
    "full_url = stats_url % (','.join(video_ids), api_key)\n",
    "yt_stats = json.loads(urllib2.urlopen(full_url).read())"
   ]
  },
  {
   "cell_type": "code",
   "execution_count": 25,
   "metadata": {
    "collapsed": false
   },
   "outputs": [],
   "source": [
    "results = {}\n",
    "for item in yt_results['items']:\n",
    "    results[item['id']['videoId']] = [item['snippet']['title'], item['snippet']['description']]\n",
    "\n",
    "for item in yt_stats['items']:\n",
    "    results[item['id']].append(item['statistics']['viewCount'])"
   ]
  },
  {
   "cell_type": "code",
   "execution_count": 26,
   "metadata": {
    "collapsed": false
   },
   "outputs": [
    {
     "name": "stdout",
     "output_type": "stream",
     "text": [
      "NyHCIhFsZoA Paula Poundstone: Extended Interview 87945\n",
      "lnepE8yoKsw The GOP Congressman Waging A War On Ducklings 528965\n",
      "TUq5LhGV0VM Gina Rodriguez Is Playing Another Virgin: Mary 273987\n",
      "Y8wfaTYag90 Brad Pitt: Big Questions With Even Bigger Stars 1242085\n",
      "NZJfIyxz3UY Ricky Gervais And Stephen Disagree On 'Lord Of The Rings' 873686\n",
      "NGcmRkcjckA Timothy Simons Has Endured A Lot From The 'Veep' Writers 135425\n",
      "oSvq6NYomms Trump Packs A Suitcase For His First Foreign Trip 391843\n",
      "DOiQ8toIFis The xx Performs 'I Dare You' 93137\n",
      "Q2HxgpAZtjk Danny McBride Had A Paranormal Encounter 220229\n",
      "WkrhVAViL-E David Ortiz Spoke From The Heart After The Boston Marathon Bombing 75371\n",
      "VdLh0lW2v00 Demetri Martin Shares His Early Comedy Drawings 136696\n",
      "82h71ko0PDE The Other Classified Secrets Trump Bragged About 245784\n",
      "Ye9Ard5P0oY Metallica Performs 'Now That We're Dead' 205770\n",
      "GMHW6XEO1ms Tuck Buckford Willingly Issues A Forced Apology 677845\n",
      "pmd6Le63W3k Breaking: Trump And Bannon's High-Speed Getaway 469626\n",
      "8XPK_dpI9ZI 'Real News Tonight' Tackles James Comey 468026\n",
      "T1h__iz0aXo Kim Jong-Un Launches A Commencement Speech 316672\n",
      "CIxTVoVRBWg Julie Chen Broke The 2016 Election Results To The 'Big Brother' Cast 159408\n",
      "SpB4RLELnHE Stephen Colbert's Midnight Confession, Vol XXVI 306747\n",
      "WM6Xp2i7hE8 Comey And Trump Had A Heart-To-No-Heart 952980\n",
      "2SntcNW4KlQ Matt Walsh Compares The Dysfunction Of Washington In 'Veep' To Reality 330563\n",
      "15wtWkcv3VU Stephen's Plea: 'Please Don't Take Sean Spicer From Us' 1622854\n",
      "tWyTRn4eHd0 Corey Hawkins' Had A Nightmarish Juilliard Audition 95959\n",
      "MJC2CMvNgaA Stephen's Monologue Gets Declassified 2902651\n",
      "Q0T5k6ePD3o The Jesus And Mary Chain Perform \"The Two Of Us\" 85291\n",
      "b_wPHSulNKQ Jennifer Garner Uses Her Endorsing Skills For 'The Late Show' 301007\n",
      "IZROSrGG8cU Ben Falcone Gets To Make Out With Sean Spicer 197994\n",
      "2c_nei61mQQ Trump Uses A Commencement Speech To Congratulate... Himself! 1947147\n",
      "u_I_8mxDS08 How To Childproof Your Home Before A Visit From Trump 1942748\n",
      "aIFbPlqS8hU Tracy Morgan Is Following Trump's Example 344834\n",
      "6qTQX0o2kT8 Comey's Firing Is Inspiring 'Godfather' Comparisons 1911226\n",
      "MM-oJPiwn2s Jane Krakowski Might Be Marla Maples' Long-Lost Twin 153201\n",
      "E3mDMTFyB6g Trump's Gone... Party At The White House! 1570578\n",
      "qQU7rAgg8SQ The Late Show's Teen Secrets 516486\n",
      "xGnLKsSDOdg Stephen Isn't Ready To 'Let It Go' 1101590\n",
      "UVejfAKpiLY One Week Older, May 13 297414\n",
      "Wx7OVtnMPbw Nick Offerman and Megan Mullally Translate Suggestive Emojis 105049\n",
      "YNVqbcrWFII Stephen Finally Agrees With Donald Trump On Something 2655159\n",
      "UHyXV6l9ZK4 White House Staffers Have Gone Into Hiding 641636\n",
      "UF8LoVSRPDs Trump's Special Counsel Is The Most Special 1435662\n"
     ]
    }
   ],
   "source": [
    "for key in results:\n",
    "    print key, results[key][0], results[key][2]"
   ]
  },
  {
   "cell_type": "code",
   "execution_count": 27,
   "metadata": {
    "collapsed": false
   },
   "outputs": [
    {
     "name": "stdout",
     "output_type": "stream",
     "text": [
      "20 21801176 1090058\n",
      "20 6220100 311005\n"
     ]
    }
   ],
   "source": [
    "tcount = 0\n",
    "ttotal = 0\n",
    "fcount = 0\n",
    "ftotal = 0\n",
    "words = ['Trump', 'GOP', 'Spicer', 'Comey', 'White House']\n",
    "for key in results:\n",
    "    present = False\n",
    "    for word in words:\n",
    "        if word in results[key][0] or word in results[key][1]:\n",
    "            present = True\n",
    "            break\n",
    "    if present:\n",
    "        tcount += 1\n",
    "        ttotal += int(results[key][2])\n",
    "    else:\n",
    "        fcount += 1\n",
    "        ftotal += int(results[key][2])\n",
    "\n",
    "print tcount, ttotal, ttotal/tcount\n",
    "print fcount, ftotal, ftotal/fcount"
   ]
  },
  {
   "cell_type": "code",
   "execution_count": 64,
   "metadata": {
    "collapsed": false
   },
   "outputs": [
    {
     "data": {
      "image/png": "[encoded data removed]",
      "text/plain": [
       "<matplotlib.figure.Figure at 0x11384e050>"
      ]
     },
     "metadata": {},
     "output_type": "display_data"
    }
   ],
   "source": [
    "plt.rcParams[\"figure.figsize\"] = (8,6)\n",
    "\n",
    "counts = (tcount, fcount)\n",
    "\n",
    "avg_views = (ttotal/tcount, ftotal/fcount)\n",
    "\n",
    "fig, ax = plt.subplots()\n",
    "\n",
    "index = np.arange(2)\n",
    "bar_width = 0.5\n",
    "\n",
    "opacity = 0.4\n",
    "error_config = {'ecolor': '0.3'}\n",
    "\n",
    "rects1 = plt.bar(index, avg_views, bar_width,\n",
    "                 alpha=opacity,\n",
    "                 color='g')\n",
    "\n",
    "plt.ylabel('Avg Page Views', fontsize=13)\n",
    "plt.title('Average views on youtube for \\n The Late Show with Stephen Colbert', fontsize=14)\n",
    "plt.xticks(index +  0/ 2, ('About Trump', 'Not About Trump',))\n",
    "\n",
    "plt.tight_layout()\n",
    "plt.show()"
   ]
  },
  {
   "cell_type": "code",
   "execution_count": null,
   "metadata": {
    "collapsed": true
   },
   "outputs": [],
   "source": []
  }
 ],
 "metadata": {
  "kernelspec": {
   "display_name": "Python 2",
   "language": "python",
   "name": "python2"
  },
  "language_info": {
   "codemirror_mode": {
    "name": "ipython",
    "version": 2
   },
   "file_extension": ".py",
   "mimetype": "text/x-python",
   "name": "python",
   "nbconvert_exporter": "python",
   "pygments_lexer": "ipython2",
   "version": "2.7.12"
  }
 },
 "nbformat": 4,
 "nbformat_minor": 2
}
